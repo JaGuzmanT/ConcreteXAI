{
 "cells": [
  {
   "cell_type": "markdown",
   "metadata": {},
   "source": [
    "## Improving the Deep Learning model"
   ]
  },
  {
   "cell_type": "code",
   "execution_count": 14,
   "metadata": {},
   "outputs": [],
   "source": [
    "# Charging the necessary dependencies\n",
    "import numpy as np                              # Library for using arrays and numeric calculus\n",
    "import matplotlib.pyplot as plt                 # Library for plotting \n",
    "#import seaborn as sns                           # Library for providing style to the charts\n",
    "from sklearn import preprocessing               # Library for preprocessing data\n",
    "from sklearn.metrics import r2_score\n",
    "from tensorflow.keras.layers import Dense, Dropout, BatchNormalization\n",
    "from tensorflow.keras import Sequential \n",
    "from tensorflow.keras.optimizers import Adam\n",
    "from tensorflow.keras.callbacks import EarlyStopping\n",
    "from keras.callbacks import ModelCheckpoint\n",
    "import tensorflow as tf\n",
    "#import shap\n",
    "%matplotlib inline"
   ]
  },
  {
   "cell_type": "code",
   "execution_count": 15,
   "metadata": {},
   "outputs": [],
   "source": [
    "# Charging the data in tensorflow version\n",
    "npz = np.load('Data_train.npz')\n",
    "train_inputs = npz['inputs'].astype(np.float)           # To ensure that they are all floats, let's also take care of that\n",
    "train_targets = npz['targets'].astype(np.float)         # Targets are also float values\n",
    "\n",
    "npz = np.load('Data_test.npz')\n",
    "test_inputs = npz['inputs'].astype(np.float)\n",
    "test_targets = npz['targets'].astype(np.float)\n",
    "\n",
    "npz = np.load('Data_validation.npz')\n",
    "valid_inputs = npz['inputs'].astype(np.float)\n",
    "valid_targets = npz['targets'].astype(np.float)"
   ]
  },
  {
   "cell_type": "markdown",
   "metadata": {},
   "source": [
    "## Defining a baseline model"
   ]
  },
  {
   "cell_type": "code",
   "execution_count": 16,
   "metadata": {},
   "outputs": [],
   "source": [
    "# Defining hyperparamters\n",
    "input_size = 4                  # Set the input and output sizes\n",
    "output_size = 1\n",
    "hidden_layer_size = 250\n",
    "batch_size = 8\n",
    "max_epochs = 450\n",
    "early_stopping = EarlyStopping(patience=60)\n",
    "\n",
    "# Defining the model architecture\n",
    "model = Sequential([\n",
    "    Dense(hidden_layer_size, activation = 'relu', kernel_initializer = 'he_uniform', input_shape = (input_size,)),\n",
    "    Dense(hidden_layer_size, activation = 'relu', kernel_initializer = 'he_uniform'),\n",
    "    Dense(hidden_layer_size, activation = 'relu', kernel_initializer = 'he_uniform'),\n",
    "    Dense(hidden_layer_size, activation = 'relu', kernel_initializer = 'he_uniform'),\n",
    "    Dense(output_size)\n",
    "])\n",
    "\n",
    "# Defining an optimizer\n",
    "my_optimizer = Adam(lr= 0.001) # , decay=1e-6\n",
    "model.compile(optimizer = my_optimizer, loss='mse', metrics=['mae', 'mape'])"
   ]
  },
  {
   "cell_type": "code",
   "execution_count": 17,
   "metadata": {},
   "outputs": [
    {
     "name": "stdout",
     "output_type": "stream",
     "text": [
      "Model: \"sequential_1\"\n",
      "_________________________________________________________________\n",
      "Layer (type)                 Output Shape              Param #   \n",
      "=================================================================\n",
      "dense_5 (Dense)              (None, 250)               1250      \n",
      "_________________________________________________________________\n",
      "dense_6 (Dense)              (None, 250)               62750     \n",
      "_________________________________________________________________\n",
      "dense_7 (Dense)              (None, 250)               62750     \n",
      "_________________________________________________________________\n",
      "dense_8 (Dense)              (None, 250)               62750     \n",
      "_________________________________________________________________\n",
      "dense_9 (Dense)              (None, 1)                 251       \n",
      "=================================================================\n",
      "Total params: 189,751\n",
      "Trainable params: 189,751\n",
      "Non-trainable params: 0\n",
      "_________________________________________________________________\n"
     ]
    }
   ],
   "source": [
    "with open(\"model_summary_improved.txt\", \"w\") as f:           # We open a file named \"model_summary.txt\" in written mode \"w\" and assigned it to the variable f\n",
    "    model.summary(print_fn=lambda x: f.write(x +'\\n')) # print_fn=lambda, write each line of the summary in the file utilizing the write method \n",
    "model.summary()                                     # Prints the model summary\n"
   ]
  },
  {
   "cell_type": "code",
   "execution_count": 18,
   "metadata": {},
   "outputs": [],
   "source": [
    "# Fit the model\n",
    "checkpointer=ModelCheckpoint(filepath='model_weights_best.hdf5', verbose=0, save_best_only=True)\n",
    "\n",
    "modelo = model.fit(train_inputs, train_targets, batch_size= batch_size,\n",
    "                   epochs = max_epochs, callbacks=[checkpointer, early_stopping],\n",
    "                   validation_data = (valid_inputs, valid_targets),\n",
    "                   verbose= 0, shuffle=False)"
   ]
  },
  {
   "cell_type": "code",
   "execution_count": 19,
   "metadata": {},
   "outputs": [],
   "source": [
    "loss = modelo.history['loss']\n",
    "val_loss = modelo.history['val_loss']\n",
    "epochs = range (len(loss))"
   ]
  },
  {
   "cell_type": "code",
   "execution_count": 20,
   "metadata": {},
   "outputs": [
    {
     "data": {
      "image/png": "[encoded data removed]",
      "text/plain": [
       "<Figure size 432x288 with 1 Axes>"
      ]
     },
     "metadata": {
      "needs_background": "light"
     },
     "output_type": "display_data"
    }
   ],
   "source": [
    "plt.plot(epochs, loss, 'r--', label = 'Training loss')\n",
    "plt.plot(epochs, val_loss, 'b--', label = 'Validation loss')\n",
    "plt.title('Training and validation loss')\n",
    "plt.xlabel('Epochs')\n",
    "plt.ylabel('Loss (MSE)')\n",
    "plt.legend()\n",
    "plt.grid()\n",
    "plt.savefig(\"loss_improved.pdf\")"
   ]
  },
  {
   "cell_type": "code",
   "execution_count": 21,
   "metadata": {},
   "outputs": [
    {
     "name": "stdout",
     "output_type": "stream",
     "text": [
      "10/10 [==============================] - 0s 1ms/step - loss: 0.0127 - mae: 0.0711 - mape: 24.3492\n"
     ]
    },
    {
     "data": {
      "text/plain": [
       "[0.012670077383518219, 0.07113667577505112, 24.34920310974121]"
      ]
     },
     "execution_count": 21,
     "metadata": {},
     "output_type": "execute_result"
    }
   ],
   "source": [
    "# Obtaing the evaluation metrics for the validation instance\n",
    "valid_loss = model.evaluate(valid_inputs, valid_targets)\n",
    "valid_loss"
   ]
  },
  {
   "attachments": {},
   "cell_type": "markdown",
   "metadata": {},
   "source": [
    "### Checking testing instance"
   ]
  },
  {
   "cell_type": "code",
   "execution_count": 22,
   "metadata": {},
   "outputs": [
    {
     "data": {
      "image/png": "[encoded data removed]",
      "text/plain": [
       "<Figure size 432x288 with 1 Axes>"
      ]
     },
     "metadata": {
      "needs_background": "light"
     },
     "output_type": "display_data"
    }
   ],
   "source": [
    "a = model.predict(test_inputs)\n",
    "plt.plot(a, test_targets, 'go', label = 'Testing')\n",
    "plt.title('Testing instance')\n",
    "plt.xlabel('Standardized predicted value')\n",
    "plt.ylabel('Standardized actual value')\n",
    "plt.legend()\n",
    "plt.axis([-2.5, 3, -2.5, 3])\n",
    "x = np.linspace(-2.2, 2.6)\n",
    "y = x\n",
    "plt.plot(x, y, 'k--')\n",
    "# fig = plt.figure.use('seaborn-v0_8', 'paper.mplstyle')\n",
    "plt.grid()\n",
    "plt.tight_layout()\n",
    "plt.savefig(\"Testing_improved.pdf\")"
   ]
  },
  {
   "cell_type": "code",
   "execution_count": 23,
   "metadata": {},
   "outputs": [
    {
     "name": "stdout",
     "output_type": "stream",
     "text": [
      "87/87 [==============================] - 0s 1ms/step - loss: 0.0161 - mae: 0.0764 - mape: 23.5521\n"
     ]
    },
    {
     "data": {
      "text/plain": [
       "[0.01611098274588585, 0.07644154131412506, 23.552122116088867]"
      ]
     },
     "execution_count": 23,
     "metadata": {},
     "output_type": "execute_result"
    }
   ],
   "source": [
    "# Testing the model\n",
    "test_loss = model.evaluate(test_inputs, test_targets)\n",
    "test_loss"
   ]
  },
  {
   "cell_type": "code",
   "execution_count": 24,
   "metadata": {},
   "outputs": [
    {
     "data": {
      "text/plain": [
       "0.9828980373745861"
      ]
     },
     "execution_count": 24,
     "metadata": {},
     "output_type": "execute_result"
    }
   ],
   "source": [
    "# Computing the R2 score\n",
    "r2_score(a, test_targets)\n",
    "# 0.9825729536110313"
   ]
  },
  {
   "cell_type": "markdown",
   "metadata": {},
   "source": [
    "## Implementing gridsearch framework in the model to make an extreme fine-tuning process.\n",
    "#### Until this point, we manually test different setups. However, no significant improvements were achieved. Now, we will check if we got the minimum value for the loss function."
   ]
  },
  {
   "cell_type": "code",
   "execution_count": 25,
   "metadata": {},
   "outputs": [],
   "source": [
    "def buildModel(hidden_layer_size): #hidden_layer_size, optimizer, epochs, lr, batch_size\n",
    "    # Defining the model architecture\n",
    "    model = Sequential([\n",
    "    Dense(hidden_layer_size, activation = 'relu', kernel_initializer = 'he_uniform', input_shape = (input_size,)),\n",
    "    Dense(hidden_layer_size, activation = 'relu', kernel_initializer = 'he_uniform'),\n",
    "    Dense(hidden_layer_size, activation = 'relu', kernel_initializer = 'he_uniform'),\n",
    "    Dense(hidden_layer_size, activation = 'relu', kernel_initializer = 'he_uniform'),\n",
    "    Dense(output_size) \n",
    "    ])\n",
    "    # Defining an optimizer\n",
    "    my_optimizer = Adam(lr = 0.001) # , decay=1e-6\n",
    "    model.compile(optimizer = my_optimizer, loss='mse', metrics=['mse'])\n",
    "    return model"
   ]
  },
  {
   "cell_type": "markdown",
   "metadata": {},
   "source": [
    "# These lines of code import two important modules that are used for implementing GridSearch in \n",
    "# a neural network using KerasClassifier.\n",
    "from sklearn.model_selection import GridSearchCV            # implements a grid search algorithm to find the best hyperparameters for a given estimator\n",
    "from tensorflow.keras.wrappers.scikit_learn import KerasRegressor"
   ]
  },
  {
   "cell_type": "code",
   "execution_count": 26,
   "metadata": {},
   "outputs": [
    {
     "ename": "NameError",
     "evalue": "name 'KerasRegressor' is not defined",
     "output_type": "error",
     "traceback": [
      "\u001b[1;31m---------------------------------------------------------------------------\u001b[0m",
      "\u001b[1;31mNameError\u001b[0m                                 Traceback (most recent call last)",
      "\u001b[1;32m<ipython-input-26-3f38969c2485>\u001b[0m in \u001b[0;36m<module>\u001b[1;34m\u001b[0m\n\u001b[0;32m      7\u001b[0m               }\n\u001b[0;32m      8\u001b[0m \u001b[1;31m# Create keras regressor\u001b[0m\u001b[1;33m\u001b[0m\u001b[1;33m\u001b[0m\u001b[1;33m\u001b[0m\u001b[0m\n\u001b[1;32m----> 9\u001b[1;33m \u001b[0mregresor\u001b[0m \u001b[1;33m=\u001b[0m \u001b[0mKerasRegressor\u001b[0m\u001b[1;33m(\u001b[0m\u001b[0mbuild_fn\u001b[0m \u001b[1;33m=\u001b[0m \u001b[0mbuildModel\u001b[0m\u001b[1;33m)\u001b[0m\u001b[1;33m\u001b[0m\u001b[1;33m\u001b[0m\u001b[0m\n\u001b[0m\u001b[0;32m     10\u001b[0m \u001b[1;33m\u001b[0m\u001b[0m\n\u001b[0;32m     11\u001b[0m \u001b[1;33m\u001b[0m\u001b[0m\n",
      "\u001b[1;31mNameError\u001b[0m: name 'KerasRegressor' is not defined"
     ]
    }
   ],
   "source": [
    "# Defining the hyperparameters that we want to test in Gridsearch\n",
    "parameters = {#'batch_size': [4,8,16,32,64,128],\n",
    "              #'epochs': [500, 600],\n",
    "              #'optimizer': ['adam', 'rmsprop', 'sgd'],\n",
    "              'hidden_layer_size': [50,100,150,200,250,300],\n",
    "              #'lr': [0.01, 0.001, 0.0001, 0.000001],\n",
    "              }\n",
    "# Create keras regressor\n",
    "regresor = KerasRegressor(build_fn = buildModel)\n",
    "\n",
    "\n",
    "grid_search = GridSearchCV(estimator = regresor,\n",
    "                           param_grid = parameters,\n",
    "                           scoring = 'neg_mean_absolute_error',\n",
    "                           cv = 3)\n",
    "# Define early stopping\n",
    "early_stopping = EarlyStopping(monitor='loss', patience=60)\n",
    "\n",
    "grid_search = grid_search.fit(train_inputs, train_targets, epochs=max_epochs, shuffle=False, verbose=0,\n",
    "                              batch_size=batch_size, callbacks=[early_stopping] )"
   ]
  },
  {
   "cell_type": "code",
   "execution_count": null,
   "metadata": {},
   "outputs": [
    {
     "ename": "NameError",
     "evalue": "name 'grid_search' is not defined",
     "output_type": "error",
     "traceback": [
      "\u001b[1;31m---------------------------------------------------------------------------\u001b[0m",
      "\u001b[1;31mNameError\u001b[0m                                 Traceback (most recent call last)",
      "\u001b[1;32m<ipython-input-58-db7484c57dbb>\u001b[0m in \u001b[0;36m<module>\u001b[1;34m\u001b[0m\n\u001b[1;32m----> 1\u001b[1;33m \u001b[0mbest_parameters\u001b[0m \u001b[1;33m=\u001b[0m \u001b[0mgrid_search\u001b[0m\u001b[1;33m.\u001b[0m\u001b[0mbest_params_\u001b[0m\u001b[1;33m\u001b[0m\u001b[1;33m\u001b[0m\u001b[0m\n\u001b[0m\u001b[0;32m      2\u001b[0m \u001b[0mbest_score\u001b[0m \u001b[1;33m=\u001b[0m \u001b[0mgrid_search\u001b[0m\u001b[1;33m.\u001b[0m\u001b[0mbest_score_\u001b[0m\u001b[1;33m\u001b[0m\u001b[1;33m\u001b[0m\u001b[0m\n\u001b[0;32m      3\u001b[0m \u001b[1;33m\u001b[0m\u001b[0m\n\u001b[0;32m      4\u001b[0m \u001b[0mprint\u001b[0m\u001b[1;33m(\u001b[0m\u001b[1;34m\"Best Parameters: \"\u001b[0m \u001b[1;33m+\u001b[0m \u001b[0mstr\u001b[0m\u001b[1;33m(\u001b[0m\u001b[0mbest_parameters\u001b[0m\u001b[1;33m)\u001b[0m\u001b[1;33m)\u001b[0m\u001b[1;33m\u001b[0m\u001b[1;33m\u001b[0m\u001b[0m\n",
      "\u001b[1;31mNameError\u001b[0m: name 'grid_search' is not defined"
     ]
    }
   ],
   "source": [
    "best_parameters = grid_search.best_params_\n",
    "best_score = grid_search.best_score_\n",
    "\n",
    "print(\"Best Parameters: \" + str(best_parameters))"
   ]
  },
  {
   "cell_type": "code",
   "execution_count": null,
   "metadata": {},
   "outputs": [
    {
     "ename": "NameError",
     "evalue": "name 'grid_search' is not defined",
     "output_type": "error",
     "traceback": [
      "\u001b[1;31m---------------------------------------------------------------------------\u001b[0m",
      "\u001b[1;31mNameError\u001b[0m                                 Traceback (most recent call last)",
      "\u001b[1;32m<ipython-input-13-2c348c1ab744>\u001b[0m in \u001b[0;36m<module>\u001b[1;34m\u001b[0m\n\u001b[1;32m----> 1\u001b[1;33m \u001b[0mprint\u001b[0m\u001b[1;33m(\u001b[0m\u001b[1;34m\"Best: %f using %s\"\u001b[0m \u001b[1;33m%\u001b[0m \u001b[1;33m(\u001b[0m\u001b[0mgrid_search\u001b[0m\u001b[1;33m.\u001b[0m\u001b[0mbest_score_\u001b[0m\u001b[1;33m,\u001b[0m \u001b[0mgrid_search\u001b[0m\u001b[1;33m.\u001b[0m\u001b[0mbest_params_\u001b[0m\u001b[1;33m)\u001b[0m\u001b[1;33m)\u001b[0m\u001b[1;33m\u001b[0m\u001b[1;33m\u001b[0m\u001b[0m\n\u001b[0m\u001b[0;32m      2\u001b[0m \u001b[0mmeans\u001b[0m \u001b[1;33m=\u001b[0m \u001b[0mgrid_search\u001b[0m\u001b[1;33m.\u001b[0m\u001b[0mcv_results_\u001b[0m\u001b[1;33m[\u001b[0m\u001b[1;34m'mean_test_score'\u001b[0m\u001b[1;33m]\u001b[0m\u001b[1;33m\u001b[0m\u001b[1;33m\u001b[0m\u001b[0m\n\u001b[0;32m      3\u001b[0m \u001b[0mstds\u001b[0m \u001b[1;33m=\u001b[0m \u001b[0mgrid_search\u001b[0m\u001b[1;33m.\u001b[0m\u001b[0mcv_results_\u001b[0m\u001b[1;33m[\u001b[0m\u001b[1;34m'std_test_score'\u001b[0m\u001b[1;33m]\u001b[0m\u001b[1;33m\u001b[0m\u001b[1;33m\u001b[0m\u001b[0m\n\u001b[0;32m      4\u001b[0m \u001b[0mparams\u001b[0m \u001b[1;33m=\u001b[0m \u001b[0mgrid_search\u001b[0m\u001b[1;33m.\u001b[0m\u001b[0mcv_results_\u001b[0m\u001b[1;33m[\u001b[0m\u001b[1;34m'params'\u001b[0m\u001b[1;33m]\u001b[0m\u001b[1;33m\u001b[0m\u001b[1;33m\u001b[0m\u001b[0m\n\u001b[0;32m      5\u001b[0m \u001b[1;32mfor\u001b[0m \u001b[0mmean\u001b[0m\u001b[1;33m,\u001b[0m \u001b[0mstdev\u001b[0m\u001b[1;33m,\u001b[0m \u001b[0mparam\u001b[0m \u001b[1;32min\u001b[0m \u001b[0mzip\u001b[0m\u001b[1;33m(\u001b[0m\u001b[0mmeans\u001b[0m\u001b[1;33m,\u001b[0m \u001b[0mstds\u001b[0m\u001b[1;33m,\u001b[0m \u001b[0mparams\u001b[0m\u001b[1;33m)\u001b[0m\u001b[1;33m:\u001b[0m\u001b[1;33m\u001b[0m\u001b[1;33m\u001b[0m\u001b[0m\n",
      "\u001b[1;31mNameError\u001b[0m: name 'grid_search' is not defined"
     ]
    }
   ],
   "source": [
    "print(\"Best: %f using %s\" % (grid_search.best_score_, grid_search.best_params_))\n",
    "means = grid_search.cv_results_['mean_test_score']\n",
    "stds = grid_search.cv_results_['std_test_score']\n",
    "params = grid_search.cv_results_['params']\n",
    "for mean, stdev, param in zip(means, stds, params):\n",
    "    print(\"%f (%f) with: %r\" % (mean, stdev, param))"
   ]
  },
  {
   "cell_type": "markdown",
   "metadata": {},
   "source": [
    "# Computing the SHAP explainations\n",
    "explainer = shap.Explainer(model.predict, train_inputs)\n",
    "shap_values = explainer(test_inputs)"
   ]
  },
  {
   "cell_type": "markdown",
   "metadata": {},
   "source": []
  },
  {
   "cell_type": "markdown",
   "metadata": {},
   "source": [
    "### Visualizing the SHAP explanations"
   ]
  },
  {
   "cell_type": "markdown",
   "metadata": {},
   "source": [
    "shap.plots.heatmap(shap_values)"
   ]
  },
  {
   "cell_type": "markdown",
   "metadata": {},
   "source": [
    "bar = shap.plots.bar(shap_values)\n",
    "shap.summary_plot(shap_values, train_inputs, plot_type=\"bar\", show=False)\n",
    "plt.savefig(\"bar.pdf\")"
   ]
  },
  {
   "cell_type": "markdown",
   "metadata": {},
   "source": [
    "sample_index = 0\n",
    "shap.plots.bar(shap_values[sample_index])"
   ]
  },
  {
   "cell_type": "markdown",
   "metadata": {},
   "source": [
    "shap.force_plot(shap_values[0,:], train_inputs[0,:],show=False)"
   ]
  },
  {
   "cell_type": "markdown",
   "metadata": {},
   "source": [
    "shap.summary_plot(shap_values, show=False)"
   ]
  },
  {
   "cell_type": "markdown",
   "metadata": {},
   "source": [
    "feature_index = 0\n",
    "shap.plots.bar(shap_values[:, feature_index])"
   ]
  },
  {
   "cell_type": "markdown",
   "metadata": {},
   "source": [
    "shap.summary_plot(shap_values, train_inputs, plot_type=\"layered_violin\", show=False)"
   ]
  },
  {
   "cell_type": "markdown",
   "metadata": {},
   "source": [
    "sample_indices = [1]\n",
    "feature_indices = [0]\n",
    "shap.plots.bar(shap_values[sample_indices][:, feature_indices])"
   ]
  },
  {
   "cell_type": "markdown",
   "metadata": {},
   "source": [
    "sample_index = 0\n",
    "shap.plots.force(shap_values[sample_index])"
   ]
  },
  {
   "cell_type": "markdown",
   "metadata": {},
   "source": [
    "shap_values"
   ]
  },
  {
   "cell_type": "code",
   "execution_count": null,
   "metadata": {},
   "outputs": [],
   "source": []
  }
 ],
 "metadata": {
  "kernelspec": {
   "display_name": "Python 3",
   "language": "python",
   "name": "python3"
  },
  "language_info": {
   "codemirror_mode": {
    "name": "ipython",
    "version": 3
   },
   "file_extension": ".py",
   "mimetype": "text/x-python",
   "name": "python",
   "nbconvert_exporter": "python",
   "pygments_lexer": "ipython3",
   "version": "3.8.8"
  },
  "vscode": {
   "interpreter": {
    "hash": "4661b5fd75b93b70a68990ab3b9d59f7ecff192334934f3bee98aea1f63f865c"
   }
  }
 },
 "nbformat": 4,
 "nbformat_minor": 2
}
